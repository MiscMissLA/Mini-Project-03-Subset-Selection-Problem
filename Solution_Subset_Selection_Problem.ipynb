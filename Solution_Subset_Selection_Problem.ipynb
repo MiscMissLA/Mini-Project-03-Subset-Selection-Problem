{
  "nbformat": 4,
  "nbformat_minor": 0,
  "metadata": {
    "colab": {
      "provenance": [],
      "authorship_tag": "ABX9TyO7vEfmHMSb2/Cw9TOQJ43+",
      "include_colab_link": true
    },
    "kernelspec": {
      "name": "python3",
      "display_name": "Python 3"
    },
    "language_info": {
      "name": "python"
    }
  },
  "cells": [
    {
      "cell_type": "markdown",
      "metadata": {
        "id": "view-in-github",
        "colab_type": "text"
      },
      "source": [
        "<a href=\"https://colab.research.google.com/github/MiscMissLA/Mini-Project-03-Subset-Selection-Problem/blob/main/Solution_Subset_Selection_Problem.ipynb\" target=\"_parent\"><img src=\"https://colab.research.google.com/assets/colab-badge.svg\" alt=\"Open In Colab\"/></a>"
      ]
    },
    {
      "cell_type": "code",
      "execution_count": 65,
      "metadata": {
        "colab": {
          "base_uri": "https://localhost:8080/"
        },
        "id": "kqhVpZp09Sn_",
        "outputId": "3e17c34e-9bdc-4dbc-de3e-b4183e9adf9f"
      },
      "outputs": [
        {
          "output_type": "stream",
          "name": "stdout",
          "text": [
            "There are  27  solutions: \n",
            "(-12, -3, 2, 6, 7)\n",
            "(-7, -4, -2, 6, 7)\n",
            "(-9, -3, 2, 3, 7)\n",
            "(-9, -8, -3, 9, 11)\n",
            "(-8, -6, -4, 7, 11)\n",
            "(-8, -4, -3, 6, 9)\n",
            "(-5, -4, 1, 2, 6)\n",
            "(-8, -7, -3, 7, 11)\n",
            "(-7, -3, 1, 3, 6)\n",
            "(-12, -2, 1, 6, 7)\n",
            "(-6, -4, -3, 6, 7)\n",
            "(-8, -6, 1, 6, 7)\n",
            "(-9, -7, -4, 9, 11)\n",
            "(-8, -6, -2, 7, 9)\n",
            "(-9, -3, 1, 2, 9)\n",
            "(-12, -3, 1, 3, 11)\n",
            "(-12, -7, 2, 6, 11)\n",
            "(-7, -5, 2, 3, 7)\n",
            "(-7, -3, 1, 2, 7)\n",
            "(-8, -6, -3, 6, 11)\n",
            "(-6, -3, 1, 2, 6)\n",
            "(-12, -2, 1, 2, 11)\n",
            "(-5, -3, -2, 1, 9)\n",
            "(-8, -4, 2, 3, 7)\n",
            "(-9, -7, 1, 6, 9)\n",
            "(-9, -6, 1, 3, 11)\n",
            "(-7, -6, -4, 6, 11)\n"
          ]
        }
      ],
      "source": [
        "import random as r\n",
        "\n",
        "L = [-12, -3, -6, 7, 2, -2, 6, 3, 9, -7, -5, -8, 1, 11, -9, -4]\n",
        "result_set = set()\n",
        "setsize = 5\n",
        "\n",
        "# r.seed(42)\n",
        "for i in range(1000):\n",
        "  s = r.sample(L, setsize)\n",
        "  if sum(s) == 0:\n",
        "    result_set.add(tuple(sorted(s)))\n",
        "\n",
        "print(\"There are \", len(result_set), \" solutions: \")\n",
        "for i in result_set:\n",
        "  print(i)"
      ]
    },
    {
      "cell_type": "code",
      "source": [
        "import random as r\n",
        "\n",
        "L = [-12, -3, -6, 7, 2, -2, 6, 3, 9, -7, -5, -8, 1, 11, -9, -4]\n",
        "result_set = set()\n",
        "\n",
        "# r.seed(42)\n",
        "for i in range(1000):\n",
        "  s = r.sample(L, r.randint(3,6))\n",
        "  if sum(s) == 0:\n",
        "    result_set.add(tuple(sorted(s)))\n",
        "\n",
        "print(\"There are \", len(result_set), \" solutions: \")\n",
        "for i in result_set:\n",
        "  print(i)"
      ],
      "metadata": {
        "colab": {
          "base_uri": "https://localhost:8080/"
        },
        "id": "St_pznmvI5iF",
        "outputId": "1c2a2184-7b0a-49e4-ee8e-ceeb01e9182f"
      },
      "execution_count": 70,
      "outputs": [
        {
          "output_type": "stream",
          "name": "stdout",
          "text": [
            "There are  27  solutions: \n",
            "(-6, -5, -4, -2, 6, 11)\n",
            "(-12, 3, 9)\n",
            "(-7, -3, 1, 9)\n",
            "(-12, -2, 3, 11)\n",
            "(-6, -4, 3, 7)\n",
            "(-12, 2, 3, 7)\n",
            "(-4, -3, -2, 9)\n",
            "(-5, -2, 1, 6)\n",
            "(-7, -5, -4, 3, 6, 7)\n",
            "(-12, -4, -3, 3, 7, 9)\n",
            "(-12, -4, 7, 9)\n",
            "(-8, -6, -3, 6, 11)\n",
            "(-4, -3, -2, 3, 6)\n",
            "(-6, -3, 9)\n",
            "(-8, -5, -3, -2, 7, 11)\n",
            "(-4, -2, 6)\n",
            "(-8, -6, -5, 3, 7, 9)\n",
            "(-5, -2, 7)\n",
            "(-9, -7, -3, 3, 7, 9)\n",
            "(-3, 1, 2)\n",
            "(-7, 1, 6)\n",
            "(-9, 3, 6)\n",
            "(-7, -3, 3, 7)\n",
            "(-8, -3, 11)\n",
            "(-7, -5, -3, 2, 6, 7)\n",
            "(-9, 1, 2, 6)\n",
            "(-5, -4, 9)\n"
          ]
        }
      ]
    }
  ]
}